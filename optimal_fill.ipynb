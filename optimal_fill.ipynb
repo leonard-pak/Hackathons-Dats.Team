{
 "cells": [
  {
   "cell_type": "code",
   "execution_count": 5,
   "metadata": {},
   "outputs": [],
   "source": [
    "import itertools\n",
    "import typing as tp\n",
    "\n",
    "import numpy as np"
   ]
  },
  {
   "cell_type": "code",
   "execution_count": 6,
   "metadata": {},
   "outputs": [],
   "source": [
    "capacity_x = 8\n",
    "capacity_y = 11\n",
    "\n",
    "garbage_dict = {\n",
    "    \"id_1\": [\n",
    "        [0, 0],\n",
    "        [1, 0],\n",
    "        [2, 0],\n",
    "        [2, 1],\n",
    "    ],\n",
    "    \"id_2\": [\n",
    "        [0, 0],\n",
    "        [1, 0],\n",
    "        [0, 1],\n",
    "        [1, 1],\n",
    "    ],\n",
    "    \"id_3\": [\n",
    "        [0, 0],\n",
    "        [1, 0],\n",
    "        [1, 1],\n",
    "    ],\n",
    "}"
   ]
  },
  {
   "cell_type": "code",
   "execution_count": 7,
   "metadata": {},
   "outputs": [],
   "source": [
    "area = np.zeros(capacity_x * capacity_y).reshape(capacity_y, capacity_x)\n",
    "garbage_np = {id_: np.flip(coords) for id_, coords in garbage_dict.items()}"
   ]
  },
  {
   "cell_type": "code",
   "execution_count": 8,
   "metadata": {},
   "outputs": [],
   "source": [
    "def index_figure(figure):\n",
    "    return figure[:, 0], figure[:, 1]"
   ]
  },
  {
   "cell_type": "code",
   "execution_count": 9,
   "metadata": {},
   "outputs": [
    {
     "data": {
      "text/plain": [
       "array([[1., 1., 1., 0., 0., 0., 0., 0.],\n",
       "       [0., 0., 1., 0., 0., 0., 0., 0.],\n",
       "       [0., 0., 0., 0., 0., 0., 0., 0.],\n",
       "       [0., 0., 0., 0., 0., 0., 0., 0.],\n",
       "       [0., 0., 0., 0., 0., 0., 0., 0.],\n",
       "       [0., 0., 0., 0., 0., 0., 0., 0.],\n",
       "       [0., 0., 0., 0., 0., 0., 0., 0.],\n",
       "       [0., 0., 0., 0., 0., 0., 0., 0.],\n",
       "       [0., 0., 0., 0., 0., 0., 0., 0.],\n",
       "       [0., 0., 0., 0., 0., 0., 0., 0.],\n",
       "       [0., 0., 0., 0., 0., 0., 0., 0.]])"
      ]
     },
     "execution_count": 9,
     "metadata": {},
     "output_type": "execute_result"
    }
   ],
   "source": [
    "area[index_figure(garbage_np['id_1'])] = 1\n",
    "area"
   ]
  },
  {
   "cell_type": "code",
   "execution_count": 10,
   "metadata": {},
   "outputs": [
    {
     "data": {
      "text/plain": [
       "array([[1, 2],\n",
       "       [0, 2],\n",
       "       [0, 1],\n",
       "       [0, 0]])"
      ]
     },
     "execution_count": 10,
     "metadata": {},
     "output_type": "execute_result"
    }
   ],
   "source": [
    "garbage_np['id_1']"
   ]
  },
  {
   "cell_type": "code",
   "execution_count": 11,
   "metadata": {},
   "outputs": [],
   "source": [
    "def rotate_90(figure, times: int, shift):\n",
    "    return figure @ np.linalg.matrix_power(np.array([\n",
    "    [0, -1],\n",
    "    [1, 0],\n",
    "]), times).astype(np.int_) + shift"
   ]
  },
  {
   "cell_type": "code",
   "execution_count": 12,
   "metadata": {},
   "outputs": [],
   "source": [
    "def fill_area(capacity_x: int, capacity_y: int, figures):\n",
    "    area = np.zeros(capacity_x * capacity_y).reshape(capacity_y, capacity_x).astype(np.int_)\n",
    "    for figure in figures:\n",
    "        area[index_figure(figure)] = 1\n",
    "    return area"
   ]
  },
  {
   "cell_type": "code",
   "execution_count": 13,
   "metadata": {},
   "outputs": [
    {
     "data": {
      "text/plain": [
       "array([[ 3, -1],\n",
       "       [ 3,  0],\n",
       "       [ 2,  0],\n",
       "       [ 1,  0]])"
      ]
     },
     "execution_count": 13,
     "metadata": {},
     "output_type": "execute_result"
    }
   ],
   "source": [
    "rotate_90(garbage_np['id_1'], -3, [1, 0])\n",
    "# [y, x]"
   ]
  },
  {
   "cell_type": "code",
   "execution_count": 14,
   "metadata": {},
   "outputs": [
    {
     "data": {
      "text/plain": [
       "array([[1, 1, 1, 0, 0, 0, 0, 0],\n",
       "       [1, 1, 1, 0, 0, 0, 0, 0],\n",
       "       [1, 1, 1, 0, 0, 0, 0, 0],\n",
       "       [0, 1, 1, 0, 0, 0, 0, 0],\n",
       "       [0, 0, 0, 0, 0, 0, 0, 0],\n",
       "       [0, 0, 0, 0, 0, 0, 0, 0],\n",
       "       [0, 0, 0, 0, 0, 0, 0, 0],\n",
       "       [0, 0, 0, 0, 0, 0, 0, 0],\n",
       "       [0, 0, 0, 0, 0, 0, 0, 0],\n",
       "       [0, 0, 0, 0, 0, 0, 0, 0],\n",
       "       [0, 0, 0, 0, 0, 0, 0, 0]])"
      ]
     },
     "execution_count": 14,
     "metadata": {},
     "output_type": "execute_result"
    }
   ],
   "source": [
    "figure_1 = rotate_90(garbage_np['id_1'], 0, [0, 0])\n",
    "figure_2 = rotate_90(garbage_np['id_2'], 0, [1, 0])\n",
    "figure_3 = rotate_90(garbage_np['id_3'], 1, [2, 2])\n",
    "figures = [figure_1, figure_2, figure_3]\n",
    "fill_area(capacity_x, capacity_y, figures)"
   ]
  },
  {
   "cell_type": "code",
   "execution_count": 15,
   "metadata": {},
   "outputs": [
    {
     "data": {
      "text/plain": [
       "array([[1, 1, 1, 0, 0, 0, 0, 0],\n",
       "       [1, 1, 1, 0, 0, 0, 0, 0],\n",
       "       [1, 1, 1, 0, 0, 0, 0, 0],\n",
       "       [0, 1, 1, 0, 0, 0, 0, 0],\n",
       "       [0, 0, 0, 0, 0, 0, 0, 0],\n",
       "       [0, 0, 0, 0, 0, 0, 0, 0],\n",
       "       [0, 0, 0, 0, 0, 0, 0, 0],\n",
       "       [0, 0, 0, 0, 0, 0, 0, 0],\n",
       "       [0, 0, 0, 0, 0, 0, 0, 0],\n",
       "       [0, 0, 0, 0, 0, 0, 0, 0],\n",
       "       [0, 0, 0, 0, 0, 0, 0, 0]])"
      ]
     },
     "execution_count": 15,
     "metadata": {},
     "output_type": "execute_result"
    }
   ],
   "source": [
    "occupancy_grid = fill_area(capacity_x, capacity_y, figures)\n",
    "occupancy_grid"
   ]
  },
  {
   "cell_type": "code",
   "execution_count": 16,
   "metadata": {},
   "outputs": [],
   "source": [
    "distance_map = np.zeros_like(occupancy_grid)"
   ]
  },
  {
   "cell_type": "code",
   "execution_count": 17,
   "metadata": {},
   "outputs": [],
   "source": [
    "for dy in range(capacity_y):\n",
    "    for dx in range(capacity_x):\n",
    "        if occupancy_grid[dy, dx] == 1:\n",
    "            continue\n",
    "        distance_map[dy, dx] = min(distance_map[dy - 1, dx] + 1, distance_map[dy, dx - 1] + 1)"
   ]
  },
  {
   "cell_type": "code",
   "execution_count": 18,
   "metadata": {},
   "outputs": [
    {
     "data": {
      "text/plain": [
       "array([[0, 0, 0, 1, 1, 1, 1, 1],\n",
       "       [0, 0, 0, 1, 2, 2, 2, 2],\n",
       "       [0, 0, 0, 1, 2, 3, 3, 3],\n",
       "       [1, 0, 0, 1, 2, 3, 4, 4],\n",
       "       [1, 1, 1, 2, 3, 4, 5, 5],\n",
       "       [1, 2, 2, 3, 4, 5, 6, 6],\n",
       "       [1, 2, 3, 4, 5, 6, 7, 7],\n",
       "       [1, 2, 3, 4, 5, 6, 7, 8],\n",
       "       [1, 2, 3, 4, 5, 6, 7, 8],\n",
       "       [1, 2, 3, 4, 5, 6, 7, 8],\n",
       "       [1, 2, 3, 4, 5, 6, 7, 8]])"
      ]
     },
     "execution_count": 18,
     "metadata": {},
     "output_type": "execute_result"
    }
   ],
   "source": [
    "distance_map"
   ]
  },
  {
   "cell_type": "code",
   "execution_count": 19,
   "metadata": {},
   "outputs": [],
   "source": [
    "def move_to_corner(figure):\n",
    "    return figure + [distance_map.shape[0] - np.max(figure[:, 0]) - 1, distance_map.shape[1] - np.max(figure[:, 1]) - 1]"
   ]
  },
  {
   "cell_type": "code",
   "execution_count": 20,
   "metadata": {},
   "outputs": [
    {
     "data": {
      "text/plain": [
       "array([[10,  7],\n",
       "       [ 9,  7],\n",
       "       [ 9,  6],\n",
       "       [ 9,  5]])"
      ]
     },
     "execution_count": 20,
     "metadata": {},
     "output_type": "execute_result"
    }
   ],
   "source": [
    "# move to edge\n",
    "cand = move_to_corner(garbage_np['id_1'])\n",
    "cand"
   ]
  },
  {
   "cell_type": "code",
   "execution_count": 21,
   "metadata": {},
   "outputs": [],
   "source": [
    "def calc_figure_cost(figure) -> int:\n",
    "    coord_set = set()\n",
    "    coord_set = set((coord[0], coord[1]) for coord in figure)\n",
    "    # for coord in figure:\n",
    "    #     coord_set.update({(coord[0] + dy, coord[1] + dx) for dy, dx in itertools.product(range(-1, 2), repeat=2)})\n",
    "\n",
    "    cost = sum(distance_map[coord_y, coord_x] for coord_y, coord_x in coord_set)\n",
    "    # cost = 0\n",
    "    # for coord_y, coord_x in coord_set:\n",
    "    #     if coord_y >= capacity_y or coord_x >= capacity_x:\n",
    "    #         cost += 100\n",
    "    #         continue\n",
    "    #     cost += distance_map[coord_y, coord_x]\n",
    "\n",
    "    return cost"
   ]
  },
  {
   "cell_type": "code",
   "execution_count": 22,
   "metadata": {},
   "outputs": [
    {
     "data": {
      "text/plain": [
       "29"
      ]
     },
     "execution_count": 22,
     "metadata": {},
     "output_type": "execute_result"
    }
   ],
   "source": [
    "# calc current cost\n",
    "calc_figure_cost(cand)"
   ]
  },
  {
   "cell_type": "code",
   "execution_count": 23,
   "metadata": {},
   "outputs": [],
   "source": [
    "def is_valid_position(figure) -> bool:\n",
    "    occupancy_grid\n",
    "    for coord_y, coord_x in figure:\n",
    "        if not 0 <= coord_y < capacity_y or not 0 <= coord_x < capacity_x:\n",
    "            return False\n",
    "        if occupancy_grid[coord_y, coord_x] == 1:\n",
    "            return False\n",
    "    return True"
   ]
  },
  {
   "cell_type": "code",
   "execution_count": 24,
   "metadata": {},
   "outputs": [],
   "source": [
    "shift_steps = [\n",
    "    [-1, -1],\n",
    "    [-1, 0],\n",
    "    [0, -1],\n",
    "    [1, -1],\n",
    "]\n",
    "\n",
    "optimal_step = [0, 0]\n",
    "optimal_cost = calc_figure_cost(cand)\n",
    "for step in shift_steps:\n",
    "    possible_cand = cand + step\n",
    "    if not is_valid_position(possible_cand):\n",
    "        continue\n",
    "    possible_cost = calc_figure_cost(possible_cand)\n",
    "    if possible_cost <= optimal_cost:\n",
    "        optimal_step = step\n",
    "        optimal_cost = possible_cost\n",
    "\n",
    "# if optimal_step == [0, 0]:\n",
    "#     break"
   ]
  },
  {
   "cell_type": "code",
   "execution_count": 25,
   "metadata": {},
   "outputs": [],
   "source": [
    "def find_optimal_pos(figure):\n",
    "    optimal_cand = None\n",
    "    cand = move_to_corner(figure)\n",
    "    while True:\n",
    "        optimal_step = [0, 0]\n",
    "        optimal_cost = float('inf')\n",
    "        if is_valid_position(cand):\n",
    "            optimal_cost = calc_figure_cost(cand)\n",
    "        for step in shift_steps:\n",
    "            possible_cand = cand + step\n",
    "            if not is_valid_position(possible_cand):\n",
    "                continue\n",
    "            possible_cost = calc_figure_cost(possible_cand)\n",
    "            if possible_cost <= optimal_cost:\n",
    "                optimal_step = step\n",
    "                optimal_cost = possible_cost\n",
    "\n",
    "        if optimal_step == [0, 0]:\n",
    "            break\n",
    "        cand += optimal_step\n",
    "\n",
    "    if optimal_cost != float('inf'):\n",
    "        optimal_cand = cand\n",
    "\n",
    "    return optimal_cand, optimal_cost"
   ]
  },
  {
   "cell_type": "code",
   "execution_count": 26,
   "metadata": {},
   "outputs": [
    {
     "data": {
      "text/plain": [
       "(array([[5, 2],\n",
       "        [4, 2],\n",
       "        [4, 1],\n",
       "        [4, 0]]),\n",
       " 5)"
      ]
     },
     "execution_count": 26,
     "metadata": {},
     "output_type": "execute_result"
    }
   ],
   "source": [
    "find_optimal_pos(garbage_np['id_1'])"
   ]
  },
  {
   "cell_type": "code",
   "execution_count": 27,
   "metadata": {},
   "outputs": [
    {
     "data": {
      "text/plain": [
       "(array([[3, 0],\n",
       "        [4, 0],\n",
       "        [4, 1],\n",
       "        [4, 2]]),\n",
       " 4)"
      ]
     },
     "execution_count": 27,
     "metadata": {},
     "output_type": "execute_result"
    }
   ],
   "source": [
    "init_cand = garbage_np['id_1']\n",
    "\n",
    "global_optimal_cand = None\n",
    "global_optimal_cost = float('inf')\n",
    "for rotate in range(4):\n",
    "    cand = rotate_90(init_cand, rotate, [0, 0])\n",
    "    local_optimal_cand, local_optimal_cost = find_optimal_pos(cand)\n",
    "\n",
    "    if local_optimal_cand is None:\n",
    "        continue\n",
    "    if local_optimal_cost < global_optimal_cost:\n",
    "        global_optimal_cand = local_optimal_cand\n",
    "        global_optimal_cost = local_optimal_cost\n",
    "\n",
    "global_optimal_cand, global_optimal_cost"
   ]
  },
  {
   "cell_type": "code",
   "execution_count": 28,
   "metadata": {},
   "outputs": [
    {
     "data": {
      "text/plain": [
       "array([[1, 1, 1, 0, 0, 0, 0, 0],\n",
       "       [1, 1, 1, 0, 0, 0, 0, 0],\n",
       "       [1, 1, 1, 0, 0, 0, 0, 0],\n",
       "       [0, 1, 1, 0, 0, 0, 0, 0],\n",
       "       [0, 0, 0, 0, 0, 0, 0, 0],\n",
       "       [0, 0, 0, 0, 0, 0, 0, 0],\n",
       "       [0, 0, 0, 0, 0, 0, 0, 0],\n",
       "       [0, 0, 0, 0, 0, 0, 0, 0],\n",
       "       [0, 0, 0, 0, 0, 0, 0, 0],\n",
       "       [0, 0, 0, 0, 0, 0, 0, 0],\n",
       "       [0, 0, 0, 0, 0, 0, 0, 0]])"
      ]
     },
     "execution_count": 28,
     "metadata": {},
     "output_type": "execute_result"
    }
   ],
   "source": [
    "occupancy_grid"
   ]
  },
  {
   "cell_type": "code",
   "execution_count": 29,
   "metadata": {},
   "outputs": [
    {
     "data": {
      "text/plain": [
       "(array([4, 2]), array([3, 0]))"
      ]
     },
     "execution_count": 29,
     "metadata": {},
     "output_type": "execute_result"
    }
   ],
   "source": [
    "global_optimal_cand.max(axis=0), global_optimal_cand.min(axis=0)"
   ]
  },
  {
   "cell_type": "code",
   "execution_count": 30,
   "metadata": {},
   "outputs": [
    {
     "data": {
      "text/plain": [
       "6"
      ]
     },
     "execution_count": 30,
     "metadata": {},
     "output_type": "execute_result"
    }
   ],
   "source": [
    "np.prod(global_optimal_cand.max(axis=0) - global_optimal_cand.min(axis=0) + 1)"
   ]
  },
  {
   "cell_type": "code",
   "execution_count": 33,
   "metadata": {},
   "outputs": [
    {
     "data": {
      "text/plain": [
       "array([[1, 1, 1, 0, 0, 0, 0, 0],\n",
       "       [1, 1, 1, 0, 0, 0, 0, 0],\n",
       "       [1, 1, 1, 0, 0, 0, 0, 0],\n",
       "       [0, 1, 1, 0, 0, 0, 0, 0],\n",
       "       [0, 0, 0, 0, 0, 0, 0, 0],\n",
       "       [0, 0, 0, 0, 0, 0, 0, 0],\n",
       "       [0, 0, 0, 0, 0, 0, 0, 0],\n",
       "       [0, 0, 0, 0, 0, 0, 0, 0],\n",
       "       [0, 0, 0, 0, 0, 0, 0, 0],\n",
       "       [0, 0, 0, 0, 0, 0, 0, 0],\n",
       "       [0, 0, 0, 0, 0, 0, 0, 0]])"
      ]
     },
     "execution_count": 33,
     "metadata": {},
     "output_type": "execute_result"
    }
   ],
   "source": [
    "occupancy_grid"
   ]
  },
  {
   "cell_type": "code",
   "execution_count": 48,
   "metadata": {},
   "outputs": [
    {
     "name": "stdout",
     "output_type": "stream",
     "text": [
      "True\n",
      "True\n",
      "True\n",
      "True\n",
      "True\n",
      "True\n",
      "True\n",
      "True\n",
      "True\n",
      "True\n",
      "True\n",
      "True\n",
      "True\n",
      "True\n",
      "True\n",
      "True\n"
     ]
    }
   ],
   "source": [
    "shape_x = 4\n",
    "shape_y = 4\n",
    "\n",
    "for dy in range(capacity_y - 1, shape_y - 1, -1):\n",
    "    for dx in range(capacity_x - 1, shape_x - 1, -1):\n",
    "        if not np.any(occupancy_grid[dy-shape_y:dy, dx-shape_x:dx]):\n",
    "            print(True)"
   ]
  }
 ],
 "metadata": {
  "kernelspec": {
   "display_name": "Python 3",
   "language": "python",
   "name": "python3"
  },
  "language_info": {
   "codemirror_mode": {
    "name": "ipython",
    "version": 3
   },
   "file_extension": ".py",
   "mimetype": "text/x-python",
   "name": "python",
   "nbconvert_exporter": "python",
   "pygments_lexer": "ipython3",
   "version": "3.10.10"
  }
 },
 "nbformat": 4,
 "nbformat_minor": 2
}
